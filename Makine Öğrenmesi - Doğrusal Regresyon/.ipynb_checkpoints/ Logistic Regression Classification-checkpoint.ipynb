{
 "cells": [
  {
   "cell_type": "markdown",
   "metadata": {},
   "source": [
    "# Logistic Regression Classification\n",
    "- Binary Classification =>  0 veya 1\n",
    "- En küçük Neural Network.\n",
    "- Bu datayı şimdi dersi analatırken  anlatıcam. Classiifaction yaparken birden fazla data tipi var. Bunlar mesela image. İleride kanser datasını ayırt etmeyi öğreticez. \n",
    "- Datamız'da 0 ve 1 ile gösterilen resimler var. Bu şimdi 1. Bunun labeli 1. Benim datamda 1 olarak geçiyor. Daha sonra bu resimler px'lerden oluşuyor. Bu px'ler 0-1 arasında yer alır."
   ]
  },
  {
   "cell_type": "code",
   "execution_count": 4,
   "metadata": {},
   "outputs": [
    {
     "data": {
      "text/html": [
       "<img src=\"./img/linear_reg_classification.jpg\"/>"
      ],
      "text/plain": [
       "<IPython.core.display.Image object>"
      ]
     },
     "execution_count": 4,
     "metadata": {},
     "output_type": "execute_result"
    }
   ],
   "source": [
    "from IPython.display import Image\n",
    "Image(url=\"./img/linear_reg_classification.jpg\")"
   ]
  },
  {
   "cell_type": "markdown",
   "metadata": {},
   "source": [
    "---\n",
    "## Computation Graph\n",
    "- Matematiksel ifadeleri görselleştirmek için kullanırız.\n",
    "- a^2 + b^2 = Square Root"
   ]
  },
  {
   "cell_type": "code",
   "execution_count": 5,
   "metadata": {},
   "outputs": [
    {
     "data": {
      "text/html": [
       "<img src=\"./img/linear_reg_classification2.jpg\"/>"
      ],
      "text/plain": [
       "<IPython.core.display.Image object>"
      ]
     },
     "execution_count": 5,
     "metadata": {},
     "output_type": "execute_result"
    }
   ],
   "source": [
    "Image(url=\"./img/linear_reg_classification2.jpg\")"
   ]
  },
  {
   "cell_type": "markdown",
   "metadata": {},
   "source": [
    "- **Amaç:** Modeli test veya train etmek.\n",
    "- Benim 4096px boyutunda bir tane resmim var.\n",
    "- Train etmek ne demek => Bu resmi kendi modeline uygulamak\n",
    "- Benim px1,px2... yani bunlar 4096 feature. Bunların hepsini w1,w2... ile çarpıyoruz. Daha sonra SUM işlemi yapıyoruz.\n",
    "- b =>  bias\n",
    "- z = b + px1.w1 + px2.w2 ... px4096.w4096\n",
    "- Parametreler weight ve bias.\n",
    "- w'ler katsayıları temsil ediyor.\n",
    "- Sigmoid Function => Bizim sayımızı 0-1 arasında bir değere eşitler.\n",
    "- 0.5 üstü 1 olsun, 0.5 altı 0 olsun."
   ]
  },
  {
   "cell_type": "markdown",
   "metadata": {},
   "source": [
    "---\n",
    "## Forward Propagation\n",
    "- z = (w.T)x + b <br> T = Transpose\n",
    "- Eğer sen 1 resmini yolladıysan(predict) senin loss değerin 0'dır. Eğer 0 yolladıysa ve bu da doğru çıkıtysa loss yine 0'dır. Yani doğrular 0 ile simgelenir.\n",
    "- -(1-y)log(1-y)-y.log(y)\n",
    "\n",
    "## Backward Propagation\n",
    "- Benim modelim weigth ve bias'ı öğrenmek zorunda. Bu parametreler için cost'u azaltıyor."
   ]
  },
  {
   "cell_type": "code",
   "execution_count": 7,
   "metadata": {},
   "outputs": [
    {
     "data": {
      "text/html": [
       "<img src=\"./img/linear_reg_classification3.jpg\"/>"
      ],
      "text/plain": [
       "<IPython.core.display.Image object>"
      ]
     },
     "execution_count": 7,
     "metadata": {},
     "output_type": "execute_result"
    }
   ],
   "source": [
    "Image(url=\"./img/linear_reg_classification3.jpg\")"
   ]
  },
  {
   "cell_type": "markdown",
   "metadata": {},
   "source": [
    "- Azaltma işlemini w'leri azaltarak değerlerini yaparız.\n",
    "- w := w - step <br> step = slope1\n",
    "- slope => Eğim demektir.\n",
    "- Minumum noktaya ulaşana kadar w değerlerini azaltıyorum.\n",
    "- First Step  => w=5, slope1=3   |  w - slope1 = 5 - 3   = 2 , cost = 0.4 (not min) <br>\n",
    "  Second Step => w=2, slope2=0.7 |  w - slope2 = 2 - 0.7 = 1.3,  cost = 0.3 (not min) <br>\n",
    "  Third Step  => w=1.3, slope3=0.01 | w - slope3 = 1.3 - 0.01 = 1.29\n",
    "- Slope3=0.01 bakarsak burada neredeyse değişim yoktur. Bu durumda min noktaya ulaşılmıştır.\n",
    "- Backward propagation yaparken önemli olan parametreleri güncellemektir.\n",
    "- "
   ]
  },
  {
   "cell_type": "code",
   "execution_count": null,
   "metadata": {},
   "outputs": [],
   "source": []
  }
 ],
 "metadata": {
  "kernelspec": {
   "display_name": "Python 3",
   "language": "python",
   "name": "python3"
  },
  "language_info": {
   "codemirror_mode": {
    "name": "ipython",
    "version": 3
   },
   "file_extension": ".py",
   "mimetype": "text/x-python",
   "name": "python",
   "nbconvert_exporter": "python",
   "pygments_lexer": "ipython3",
   "version": "3.7.4"
  }
 },
 "nbformat": 4,
 "nbformat_minor": 4
}
