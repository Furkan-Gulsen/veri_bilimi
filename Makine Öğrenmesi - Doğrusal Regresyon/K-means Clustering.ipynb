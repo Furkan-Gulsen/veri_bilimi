{
 "cells": [
  {
   "cell_type": "markdown",
   "metadata": {},
   "source": [
    "# K-means Clustering\n",
    "* 1- Supervised Learning - Labellerı vardır.\n",
    "* 2- Unsupervised Learning - Labelları yoktur.\n",
    "* Biz 2.yi göreceğiz burada.\n",
    "* Supervised gibi data labelleri ne olduğu belli değildir. Yani kedi midir köprek midir belli değildir.\n",
    "- Burada Clustering(gruplama) yapılır. En meşhuru K-Means'tır.\n",
    "<br><br>\n",
    "\n",
    "**Kmeans Algoritması**\n",
    "* K değerini seç K = 2\n",
    "* Random centroid ata\n",
    "* Data pointleri centoride göre uzaklığa(euclidean distance) bak cluster(gruplama) yap.\n",
    "* Bu centroidlerin yeri değişmeyene kadar yeni centroid bul.\n",
    "<br><br>\n",
    "\n",
    "* K için doğru değeri bulmak için WCSS kullanılır.\n",
    "* WCSS = distance(Pi,Cn)^2\n",
    "* WCSS değeri ne kadar azsa o kadar iyi."
   ]
  },
  {
   "cell_type": "code",
   "execution_count": 3,
   "metadata": {
    "jupyter": {
     "source_hidden": true
    }
   },
   "outputs": [
    {
     "data": {
      "text/html": [
       "<img src=\"./img/k-mean.jpg\"/>"
      ],
      "text/plain": [
       "<IPython.core.display.Image object>"
      ]
     },
     "execution_count": 3,
     "metadata": {},
     "output_type": "execute_result"
    }
   ],
   "source": [
    "from IPython.display import Image\n",
    "Image(url=\"./img/k-mean.jpg\")"
   ]
  },
  {
   "cell_type": "code",
   "execution_count": 4,
   "metadata": {},
   "outputs": [],
   "source": [
    "import pandas as pd\n",
    "import numpy as np\n",
    "import matplotlib.pyplot as plt"
   ]
  },
  {
   "cell_type": "markdown",
   "metadata": {},
   "source": [
    "## Datayı Hazırlamak"
   ]
  },
  {
   "cell_type": "code",
   "execution_count": 5,
   "metadata": {},
   "outputs": [],
   "source": [
    "# k değerim 3 olsun. Bu datayı ben hazırladığım için k değerini biliyorum. Normalde bilmiyorum.\n",
    "x1 = np.random.normal(25,5,1000) # ort=25, sigma=5, count=1000 => 20 ile 30 arasında 1000 veri\n",
    "y1 = np.random.normal(25,5,1000)\n",
    "\n",
    "x2 = np.random.normal(55,5,1000)\n",
    "y2 = np.random.normal(60,5,1000)\n",
    "\n",
    "x3 = np.random.normal(55,5,1000)\n",
    "y3 = np.random.normal(15,5,1000)"
   ]
  },
  {
   "cell_type": "code",
   "execution_count": 6,
   "metadata": {},
   "outputs": [
    {
     "data": {
      "text/html": [
       "<div>\n",
       "<style scoped>\n",
       "    .dataframe tbody tr th:only-of-type {\n",
       "        vertical-align: middle;\n",
       "    }\n",
       "\n",
       "    .dataframe tbody tr th {\n",
       "        vertical-align: top;\n",
       "    }\n",
       "\n",
       "    .dataframe thead th {\n",
       "        text-align: right;\n",
       "    }\n",
       "</style>\n",
       "<table border=\"1\" class=\"dataframe\">\n",
       "  <thead>\n",
       "    <tr style=\"text-align: right;\">\n",
       "      <th></th>\n",
       "      <th>x</th>\n",
       "      <th>y</th>\n",
       "    </tr>\n",
       "  </thead>\n",
       "  <tbody>\n",
       "    <tr>\n",
       "      <td>0</td>\n",
       "      <td>26.730615</td>\n",
       "      <td>22.374120</td>\n",
       "    </tr>\n",
       "    <tr>\n",
       "      <td>1</td>\n",
       "      <td>21.538562</td>\n",
       "      <td>28.626339</td>\n",
       "    </tr>\n",
       "    <tr>\n",
       "      <td>2</td>\n",
       "      <td>23.059703</td>\n",
       "      <td>29.017035</td>\n",
       "    </tr>\n",
       "    <tr>\n",
       "      <td>3</td>\n",
       "      <td>27.166269</td>\n",
       "      <td>12.730893</td>\n",
       "    </tr>\n",
       "    <tr>\n",
       "      <td>4</td>\n",
       "      <td>19.805370</td>\n",
       "      <td>27.531660</td>\n",
       "    </tr>\n",
       "    <tr>\n",
       "      <td>...</td>\n",
       "      <td>...</td>\n",
       "      <td>...</td>\n",
       "    </tr>\n",
       "    <tr>\n",
       "      <td>2995</td>\n",
       "      <td>55.930303</td>\n",
       "      <td>14.986892</td>\n",
       "    </tr>\n",
       "    <tr>\n",
       "      <td>2996</td>\n",
       "      <td>50.724157</td>\n",
       "      <td>13.904849</td>\n",
       "    </tr>\n",
       "    <tr>\n",
       "      <td>2997</td>\n",
       "      <td>60.114112</td>\n",
       "      <td>21.645107</td>\n",
       "    </tr>\n",
       "    <tr>\n",
       "      <td>2998</td>\n",
       "      <td>54.680244</td>\n",
       "      <td>18.857788</td>\n",
       "    </tr>\n",
       "    <tr>\n",
       "      <td>2999</td>\n",
       "      <td>56.412313</td>\n",
       "      <td>9.075393</td>\n",
       "    </tr>\n",
       "  </tbody>\n",
       "</table>\n",
       "<p>3000 rows × 2 columns</p>\n",
       "</div>"
      ],
      "text/plain": [
       "              x          y\n",
       "0     26.730615  22.374120\n",
       "1     21.538562  28.626339\n",
       "2     23.059703  29.017035\n",
       "3     27.166269  12.730893\n",
       "4     19.805370  27.531660\n",
       "...         ...        ...\n",
       "2995  55.930303  14.986892\n",
       "2996  50.724157  13.904849\n",
       "2997  60.114112  21.645107\n",
       "2998  54.680244  18.857788\n",
       "2999  56.412313   9.075393\n",
       "\n",
       "[3000 rows x 2 columns]"
      ]
     },
     "execution_count": 6,
     "metadata": {},
     "output_type": "execute_result"
    }
   ],
   "source": [
    "x = np.concatenate((x1,x2,x3), axis=0) # axis=0 => for column\n",
    "y = np.concatenate((y1,y2,y3), axis=0) # axis=0 => for column\n",
    "\n",
    "dictionary = {\n",
    "    \"x\": x,\n",
    "    \"y\": y\n",
    "}\n",
    "\n",
    "data = pd.DataFrame(dictionary)\n",
    "data"
   ]
  },
  {
   "cell_type": "code",
   "execution_count": 7,
   "metadata": {},
   "outputs": [
    {
     "name": "stdout",
     "output_type": "stream",
     "text": [
      "<class 'pandas.core.frame.DataFrame'>\n",
      "RangeIndex: 3000 entries, 0 to 2999\n",
      "Data columns (total 2 columns):\n",
      "x    3000 non-null float64\n",
      "y    3000 non-null float64\n",
      "dtypes: float64(2)\n",
      "memory usage: 47.0 KB\n"
     ]
    }
   ],
   "source": [
    "data.info()"
   ]
  },
  {
   "cell_type": "code",
   "execution_count": 8,
   "metadata": {},
   "outputs": [
    {
     "data": {
      "image/png": "[encoded data removed]",
      "text/plain": [
       "<Figure size 432x288 with 1 Axes>"
      ]
     },
     "metadata": {
      "needs_background": "light"
     },
     "output_type": "display_data"
    }
   ],
   "source": [
    "plt.scatter(x1,y1)\n",
    "plt.scatter(x2,y2)\n",
    "plt.scatter(x3,y3)\n",
    "plt.show()"
   ]
  },
  {
   "cell_type": "markdown",
   "metadata": {},
   "source": [
    "## K-means Uygulaması"
   ]
  },
  {
   "cell_type": "code",
   "execution_count": 9,
   "metadata": {},
   "outputs": [
    {
     "data": {
      "image/png": "[encoded data removed]",
      "text/plain": [
       "<Figure size 432x288 with 1 Axes>"
      ]
     },
     "metadata": {
      "needs_background": "light"
     },
     "output_type": "display_data"
    }
   ],
   "source": [
    "plt.scatter(x1,y1,color=\"black\")\n",
    "plt.scatter(x2,y2,color=\"black\")\n",
    "plt.scatter(x3,y3,color=\"black\")\n",
    "plt.show()"
   ]
  },
  {
   "cell_type": "code",
   "execution_count": 11,
   "metadata": {},
   "outputs": [
    {
     "data": {
      "image/png": "[encoded data removed]",
      "text/plain": [
       "<Figure size 432x288 with 1 Axes>"
      ]
     },
     "metadata": {
      "needs_background": "light"
     },
     "output_type": "display_data"
    }
   ],
   "source": [
    "from sklearn.cluster import KMeans\n",
    "wcss = []\n",
    "\n",
    "# uygun k değerini bulmak, genelde dirsek yapan en uygunudur\n",
    "for k in range(1,15):\n",
    "    kmeans = KMeans(n_clusters=k)\n",
    "    kmeans.fit(data)\n",
    "    wcss.append(kmeans.inertia_)\n",
    "    \n",
    "plt.plot(range(1,15),wcss)\n",
    "plt.xlabel(\"number of k value\")\n",
    "plt.ylabel(\"wcss\")\n",
    "plt.show()"
   ]
  },
  {
   "cell_type": "markdown",
   "metadata": {},
   "source": [
    "* 3 değerinin dirsek olduğunu bu yüzden en uygun noktanın 3 olduğunu anladık."
   ]
  },
  {
   "cell_type": "code",
   "execution_count": 13,
   "metadata": {},
   "outputs": [
    {
     "data": {
      "text/plain": [
       "array([2, 2, 2, ..., 0, 0, 0])"
      ]
     },
     "execution_count": 13,
     "metadata": {},
     "output_type": "execute_result"
    }
   ],
   "source": [
    "# k=3 için modelim:\n",
    "kmeas2 = KMeans(n_clusters=3)\n",
    "clusters = kmeas2.fit_predict(data) # hem fit et, hem datayı üzerinde uygula\n",
    "clusters # kümeledi"
   ]
  },
  {
   "cell_type": "code",
   "execution_count": 14,
   "metadata": {},
   "outputs": [
    {
     "data": {
      "text/html": [
       "<div>\n",
       "<style scoped>\n",
       "    .dataframe tbody tr th:only-of-type {\n",
       "        vertical-align: middle;\n",
       "    }\n",
       "\n",
       "    .dataframe tbody tr th {\n",
       "        vertical-align: top;\n",
       "    }\n",
       "\n",
       "    .dataframe thead th {\n",
       "        text-align: right;\n",
       "    }\n",
       "</style>\n",
       "<table border=\"1\" class=\"dataframe\">\n",
       "  <thead>\n",
       "    <tr style=\"text-align: right;\">\n",
       "      <th></th>\n",
       "      <th>x</th>\n",
       "      <th>y</th>\n",
       "      <th>label</th>\n",
       "    </tr>\n",
       "  </thead>\n",
       "  <tbody>\n",
       "    <tr>\n",
       "      <td>0</td>\n",
       "      <td>26.730615</td>\n",
       "      <td>22.374120</td>\n",
       "      <td>2</td>\n",
       "    </tr>\n",
       "    <tr>\n",
       "      <td>1</td>\n",
       "      <td>21.538562</td>\n",
       "      <td>28.626339</td>\n",
       "      <td>2</td>\n",
       "    </tr>\n",
       "    <tr>\n",
       "      <td>2</td>\n",
       "      <td>23.059703</td>\n",
       "      <td>29.017035</td>\n",
       "      <td>2</td>\n",
       "    </tr>\n",
       "    <tr>\n",
       "      <td>3</td>\n",
       "      <td>27.166269</td>\n",
       "      <td>12.730893</td>\n",
       "      <td>2</td>\n",
       "    </tr>\n",
       "    <tr>\n",
       "      <td>4</td>\n",
       "      <td>19.805370</td>\n",
       "      <td>27.531660</td>\n",
       "      <td>2</td>\n",
       "    </tr>\n",
       "    <tr>\n",
       "      <td>...</td>\n",
       "      <td>...</td>\n",
       "      <td>...</td>\n",
       "      <td>...</td>\n",
       "    </tr>\n",
       "    <tr>\n",
       "      <td>2995</td>\n",
       "      <td>55.930303</td>\n",
       "      <td>14.986892</td>\n",
       "      <td>0</td>\n",
       "    </tr>\n",
       "    <tr>\n",
       "      <td>2996</td>\n",
       "      <td>50.724157</td>\n",
       "      <td>13.904849</td>\n",
       "      <td>0</td>\n",
       "    </tr>\n",
       "    <tr>\n",
       "      <td>2997</td>\n",
       "      <td>60.114112</td>\n",
       "      <td>21.645107</td>\n",
       "      <td>0</td>\n",
       "    </tr>\n",
       "    <tr>\n",
       "      <td>2998</td>\n",
       "      <td>54.680244</td>\n",
       "      <td>18.857788</td>\n",
       "      <td>0</td>\n",
       "    </tr>\n",
       "    <tr>\n",
       "      <td>2999</td>\n",
       "      <td>56.412313</td>\n",
       "      <td>9.075393</td>\n",
       "      <td>0</td>\n",
       "    </tr>\n",
       "  </tbody>\n",
       "</table>\n",
       "<p>3000 rows × 3 columns</p>\n",
       "</div>"
      ],
      "text/plain": [
       "              x          y  label\n",
       "0     26.730615  22.374120      2\n",
       "1     21.538562  28.626339      2\n",
       "2     23.059703  29.017035      2\n",
       "3     27.166269  12.730893      2\n",
       "4     19.805370  27.531660      2\n",
       "...         ...        ...    ...\n",
       "2995  55.930303  14.986892      0\n",
       "2996  50.724157  13.904849      0\n",
       "2997  60.114112  21.645107      0\n",
       "2998  54.680244  18.857788      0\n",
       "2999  56.412313   9.075393      0\n",
       "\n",
       "[3000 rows x 3 columns]"
      ]
     },
     "execution_count": 14,
     "metadata": {},
     "output_type": "execute_result"
    }
   ],
   "source": [
    "data[\"label\"] = clusters\n",
    "data"
   ]
  },
  {
   "cell_type": "code",
   "execution_count": 18,
   "metadata": {},
   "outputs": [
    {
     "data": {
      "image/png": "[encoded data removed]",
      "text/plain": [
       "<Figure size 432x288 with 1 Axes>"
      ]
     },
     "metadata": {
      "needs_background": "light"
     },
     "output_type": "display_data"
    }
   ],
   "source": [
    "# şimdi grafik yaparak düzgün ayırıp ayırmadığına bakalım\n",
    "plt.scatter(data.x[data.label == 0],data.y[data.label == 0],color=\"red\")\n",
    "plt.scatter(data.x[data.label == 1],data.y[data.label == 1],color=\"green\")\n",
    "plt.scatter(data.x[data.label == 2],data.y[data.label == 2],color=\"blue\")\n",
    "plt.show()"
   ]
  },
  {
   "cell_type": "code",
   "execution_count": 19,
   "metadata": {},
   "outputs": [
    {
     "data": {
      "image/png": "[encoded data removed]",
      "text/plain": [
       "<Figure size 432x288 with 1 Axes>"
      ]
     },
     "metadata": {
      "needs_background": "light"
     },
     "output_type": "display_data"
    }
   ],
   "source": [
    "# centroidler\n",
    "plt.scatter(data.x[data.label == 0],data.y[data.label == 0],color=\"red\")\n",
    "plt.scatter(data.x[data.label == 1],data.y[data.label == 1],color=\"green\")\n",
    "plt.scatter(data.x[data.label == 2],data.y[data.label == 2],color=\"blue\")\n",
    "plt.scatter(kmeas2.cluster_centers_[:,0],kmeas2.cluster_centers_[:,1],color=\"yellow\")\n",
    "plt.show()"
   ]
  },
  {
   "cell_type": "code",
   "execution_count": null,
   "metadata": {},
   "outputs": [],
   "source": []
  }
 ],
 "metadata": {
  "kernelspec": {
   "display_name": "Python 3",
   "language": "python",
   "name": "python3"
  },
  "language_info": {
   "codemirror_mode": {
    "name": "ipython",
    "version": 3
   },
   "file_extension": ".py",
   "mimetype": "text/x-python",
   "name": "python",
   "nbconvert_exporter": "python",
   "pygments_lexer": "ipython3",
   "version": "3.7.4"
  }
 },
 "nbformat": 4,
 "nbformat_minor": 4
}
