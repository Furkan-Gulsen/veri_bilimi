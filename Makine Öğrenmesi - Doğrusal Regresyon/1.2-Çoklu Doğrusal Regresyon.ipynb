{
 "cells": [
  {
   "cell_type": "markdown",
   "metadata": {},
   "source": [
    "# Çoklu Doğrusal Regresyon\n",
    "Temel amaç, bağımlı ve bağımsız değişkenler arasındaki ilişkiyi ifade eden doğrusal fonksiyonu bulmaktır. <br>\n",
    "Bir diğer amaç hata kareler toplamını minumum yapmaktır. <br>\n",
    "<br>\n",
    "Bunu inceleyen araştırmacının iki amacı vardır:\n",
    " - Bağımlı değişkeni etkilediği belirlenen değişkenler aracılıyla bağımlı değişkenin değerlerinin tahmin edilmesidir.\n",
    " - Bağımlı değişkeni etkileyen değişkenler (yönü,şiddeti)\n",
    "\n",
    "### Doğrusal Regresyonun Varsayımları\n",
    "- Hatalar normal dağılır.\n",
    "- Hatalar birbirinden bağımsızdır ve aralarında otokorelasyon yoktur. (otokorelasyon: bir regresyon modelinde hata terimlerinin birbiriyle ilişkili olma haline denmektedir)\n",
    "- Her bir gözlem için hata terimleri varyansları sabittir.\n",
    "- Değişkenler ile hata terimi arasında ilişki yoktur.\n",
    "- Bağımsız değişkenler arasında çoklu doğrusal ilişki problemi yoktur."
   ]
  },
  {
   "cell_type": "code",
   "execution_count": null,
   "metadata": {},
   "outputs": [],
   "source": []
  }
 ],
 "metadata": {
  "kernelspec": {
   "display_name": "Python 3",
   "language": "python",
   "name": "python3"
  },
  "language_info": {
   "codemirror_mode": {
    "name": "ipython",
    "version": 3
   },
   "file_extension": ".py",
   "mimetype": "text/x-python",
   "name": "python",
   "nbconvert_exporter": "python",
   "pygments_lexer": "ipython3",
   "version": "3.7.4"
  }
 },
 "nbformat": 4,
 "nbformat_minor": 4
}
