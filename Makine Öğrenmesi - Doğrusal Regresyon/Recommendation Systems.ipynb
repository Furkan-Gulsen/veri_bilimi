{
 "cells": [
  {
   "cell_type": "markdown",
   "metadata": {},
   "source": [
    "# Recommendation Systems\n",
    "* Tavsiye sistemi.\n",
    "* Örneğin bir online satış sitesinde bir kitap aldın. Bundan sonra yanlarda çıkacak reklamlar kitapla alakalı olacaktır.\n",
    "* Geçmişte ki davranışlara dayanarak önerilerde bulunur.\n",
    "    * User based\n",
    "    * Item based\n",
    "* Item based , user based'e göre daha kullanışlıdır."
   ]
  },
  {
   "cell_type": "code",
   "execution_count": null,
   "metadata": {},
   "outputs": [],
   "source": []
  }
 ],
 "metadata": {
  "kernelspec": {
   "display_name": "Python 3",
   "language": "python",
   "name": "python3"
  },
  "language_info": {
   "codemirror_mode": {
    "name": "ipython",
    "version": 3
   },
   "file_extension": ".py",
   "mimetype": "text/x-python",
   "name": "python",
   "nbconvert_exporter": "python",
   "pygments_lexer": "ipython3",
   "version": "3.7.4"
  }
 },
 "nbformat": 4,
 "nbformat_minor": 4
}
