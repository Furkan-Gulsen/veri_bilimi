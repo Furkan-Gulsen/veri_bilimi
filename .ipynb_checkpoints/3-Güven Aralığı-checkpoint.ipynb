{
 "cells": [
  {
   "cell_type": "markdown",
   "metadata": {},
   "source": [
    "## Güven Aralığı\n",
    "Anakütle parametresinin tahmini değerini kapsayabilecek iki sayıdan oluşan bir aralık bulunmasıdır."
   ]
  },
  {
   "cell_type": "markdown",
   "metadata": {},
   "source": [
    "### Güven Aralığı Nasıl Hesaplanır?\n",
    "\n",
    "**Adım 1:** n, ortalama ve standart sapmayı bul.<br>\n",
    "n = 100 <br>\n",
    "ortalama = 180 <br>\n",
    "standart sapma = 40\n",
    "\n",
    "**Adım 2:** Güven aralığına karar ver: 95 mi 99 mu?<br>\n",
    "Z tablo değerini hesapla (1,96 - 2,57)\n",
    "\n",
    "**Adım 3:**"
   ]
  },
  {
   "cell_type": "code",
   "execution_count": 2,
   "metadata": {},
   "outputs": [
    {
     "data": {
      "text/html": [
       "<img src=\"./img/güven-aralığı-1.png\"/>"
      ],
      "text/plain": [
       "<IPython.core.display.Image object>"
      ]
     },
     "execution_count": 2,
     "metadata": {},
     "output_type": "execute_result"
    }
   ],
   "source": [
    "from IPython.display import Image\n",
    "Image(url=\"./img/güven-aralığı-1.png\")"
   ]
  },
  {
   "cell_type": "markdown",
   "metadata": {},
   "source": [
    "**Sonuç:** 180 +- 7,84 yani 172 ile 188 arasındadır."
   ]
  },
  {
   "cell_type": "markdown",
   "metadata": {},
   "source": [
    "### İş Uygulaması: Fiyat Stratejisi Karar Destek Sistemi\n",
    "**Problem:**<br>\n",
    "CEO fiyat belirleme konusunda bilimsel bir dayanak ve esneklik isteniyor.\n",
    "\n",
    "**Detaylar:**\n",
    "- Satıcı, alıcı ve bir ürün vardır.\n",
    "- Alıcılara ürün ne kadar ücret öderdiniz diye soruluyor.\n",
    "- Optimum fiyat bilimsel ve esnek olarak bulunmak isteniyor."
   ]
  },
  {
   "cell_type": "code",
   "execution_count": 23,
   "metadata": {},
   "outputs": [],
   "source": [
    "import numpy as np\n",
    "\n",
    "# 10 ile 110 TL arası teklif veren 1000 kişi olsun\n",
    "fiyatlar = np.random.randint(10,110,1000)"
   ]
  },
  {
   "cell_type": "code",
   "execution_count": 24,
   "metadata": {},
   "outputs": [
    {
     "data": {
      "text/plain": [
       "59.434"
      ]
     },
     "execution_count": 24,
     "metadata": {},
     "output_type": "execute_result"
    }
   ],
   "source": [
    "np.random.seed(115)\n",
    "fiyatlar.mean() #ortalama"
   ]
  },
  {
   "cell_type": "code",
   "execution_count": 25,
   "metadata": {},
   "outputs": [],
   "source": [
    "import statsmodels.stats.api as sms"
   ]
  },
  {
   "cell_type": "code",
   "execution_count": 30,
   "metadata": {},
   "outputs": [
    {
     "data": {
      "text/plain": [
       "(57.61367665841675, 61.254323341583245)"
      ]
     },
     "execution_count": 30,
     "metadata": {},
     "output_type": "execute_result"
    }
   ],
   "source": [
    "sms.DescrStatsW(fiyatlar).tconfint_mean() # standart sapma bulunması"
   ]
  },
  {
   "cell_type": "code",
   "execution_count": null,
   "metadata": {},
   "outputs": [],
   "source": []
  }
 ],
 "metadata": {
  "kernelspec": {
   "display_name": "Python 3",
   "language": "python",
   "name": "python3"
  },
  "language_info": {
   "codemirror_mode": {
    "name": "ipython",
    "version": 3
   },
   "file_extension": ".py",
   "mimetype": "text/x-python",
   "name": "python",
   "nbconvert_exporter": "python",
   "pygments_lexer": "ipython3",
   "version": "3.7.4"
  }
 },
 "nbformat": 4,
 "nbformat_minor": 4
}
