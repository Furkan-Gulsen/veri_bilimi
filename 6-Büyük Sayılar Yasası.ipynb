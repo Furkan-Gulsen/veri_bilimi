{
 "cells": [
  {
   "cell_type": "markdown",
   "metadata": {},
   "source": [
    "## Büyük Sayılar Yasası\n",
    "\n",
    "Bir rassal değişkenin uzun vadeli kararlılığını tanımlayan olasılık teoremidir."
   ]
  },
  {
   "cell_type": "code",
   "execution_count": 7,
   "metadata": {},
   "outputs": [
    {
     "name": "stdout",
     "output_type": "stream",
     "text": [
      "Atış sayısı:  2  ----  Yazı olasılığı: 50.00\n",
      "Atış sayısı:  4  ----  Yazı olasılığı: 0.00\n",
      "Atış sayısı:  8  ----  Yazı olasılığı: 62.50\n",
      "Atış sayısı:  16  ----  Yazı olasılığı: 43.75\n",
      "Atış sayısı:  32  ----  Yazı olasılığı: 46.88\n",
      "Atış sayısı:  64  ----  Yazı olasılığı: 56.25\n",
      "Atış sayısı:  128  ----  Yazı olasılığı: 50.78\n",
      "Atış sayısı:  256  ----  Yazı olasılığı: 52.73\n",
      "Atış sayısı:  512  ----  Yazı olasılığı: 52.93\n",
      "Atış sayısı:  1024  ----  Yazı olasılığı: 50.20\n",
      "Atış sayısı:  2048  ----  Yazı olasılığı: 48.58\n",
      "Atış sayısı:  4096  ----  Yazı olasılığı: 49.49\n",
      "Atış sayısı:  8192  ----  Yazı olasılığı: 49.58\n",
      "Atış sayısı:  16384  ----  Yazı olasılığı: 49.96\n",
      "Atış sayısı:  32768  ----  Yazı olasılığı: 50.00\n",
      "Atış sayısı:  65536  ----  Yazı olasılığı: 49.68\n",
      "Atış sayısı:  131072  ----  Yazı olasılığı: 49.97\n",
      "Atış sayısı:  262144  ----  Yazı olasılığı: 50.13\n",
      "Atış sayısı:  524288  ----  Yazı olasılığı: 50.01\n",
      "Atış sayısı:  1048576  ----  Yazı olasılığı: 50.09\n"
     ]
    }
   ],
   "source": [
    "import numpy as np\n",
    "rng = np.random.RandomState(123)\n",
    "for i in np.arange(1,21):\n",
    "    deney_sayisi = 2**i\n",
    "    yazi_turalar = rng.randint(0,2,size=deney_sayisi)\n",
    "    yazi_olasiliklari = np.mean(yazi_turalar)\n",
    "    print(\"Atış sayısı: \",deney_sayisi, \" ---- \",'Yazı olasılığı: %.2f' % (yazi_olasiliklari*100))"
   ]
  },
  {
   "cell_type": "markdown",
   "metadata": {},
   "source": [
    "Bir parayı 5 kez havaya atıyoruz. Ve sonuçları gözlemliyoruz:\n",
    "- 1.Atış: Tura\n",
    "- 2.Atış: Tura\n",
    "- 3.Atış: Tura\n",
    "- 4.Atış: Yazı\n",
    "- 5.Atış: Tura\n",
    "\n",
    "Bu sonuçlara baktığımızda diğer atış ile ilgili şu yorumu yapma olasığımız oluyor. 5 atıştan 4'ü tura geldi. Diğer atışta 4/5 sonucundan %80 ihtimalle tura gelecektir.\n",
    "\n",
    "Bu yanlış bir olasılık bulma işlemidir. Eğer yukarıda ki verileri gözlemliyecek olursak, deney sayısı artıkça olasılık gerçek değeri olan %50 değerine gelmektedir. \n",
    "\n",
    "Buradan şu sonucu çıkarabiliriz. Olasılık az sayıda veriler ile değil, çok sayıda veriler ile hesaplandığında anlamlı hale gelir. Bu yönteme de \"büyük sayılar yasası\" denir."
   ]
  },
  {
   "cell_type": "code",
   "execution_count": 10,
   "metadata": {},
   "outputs": [
    {
     "data": {
      "text/plain": [
       "array([1, 0, 0, 0, 0, 0, 0, 0, 0, 1])"
      ]
     },
     "execution_count": 10,
     "metadata": {},
     "output_type": "execute_result"
    }
   ],
   "source": [
    "# rng.randint kullanımı:\n",
    "#   10 deney yapmak için:\n",
    "rng.randint(0,2,size=10)"
   ]
  }
 ],
 "metadata": {
  "kernelspec": {
   "display_name": "Python 3",
   "language": "python",
   "name": "python3"
  },
  "language_info": {
   "codemirror_mode": {
    "name": "ipython",
    "version": 3
   },
   "file_extension": ".py",
   "mimetype": "text/x-python",
   "name": "python",
   "nbconvert_exporter": "python",
   "pygments_lexer": "ipython3",
   "version": "3.7.4"
  }
 },
 "nbformat": 4,
 "nbformat_minor": 4
}
