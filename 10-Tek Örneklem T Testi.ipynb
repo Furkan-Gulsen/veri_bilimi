{
 "cells": [
  {
   "cell_type": "markdown",
   "metadata": {},
   "source": [
    "## Tek Örneklem T Testi\n",
    "Popülasyon ortalaması ile varsayımsal bir değer arasında istatistiksel olarak anlamlı bir farklılık olup olmadığını test etmek için kullanılan parametrik bir testir.\n",
    "\n",
    "---"
   ]
  },
  {
   "cell_type": "markdown",
   "metadata": {},
   "source": [
    "**Problem:**<br>\n",
    "Sepete ürün ekleme işlemi sırasında ödeme ekranında 5 adım vardır ve bu adımların biri soruglanmaktadır.\n",
    "\n",
    "**Detaylar:**\n",
    "- Her adımın 20'şer sn. olması hedefi var. 4.adım sorgulanıyor.\n",
    "- Bu durumu test etmek için 100 örnek alınıyor.\n",
    "- Örnek standart sapması 5 saniyedir. Örnek ortalaması ise 19 saniyedir."
   ]
  },
  {
   "cell_type": "markdown",
   "metadata": {},
   "source": [
    "Adım 1: Hipotezlerin kurulması ve yönlerinin belirlenmesi"
   ]
  },
  {
   "cell_type": "code",
   "execution_count": 4,
   "metadata": {},
   "outputs": [
    {
     "data": {
      "text/html": [
       "<img src=\"./img/tek_örneklem_t_testi-1.jpg\"/>"
      ],
      "text/plain": [
       "<IPython.core.display.Image object>"
      ]
     },
     "execution_count": 4,
     "metadata": {},
     "output_type": "execute_result"
    }
   ],
   "source": [
    "from IPython.display import Image\n",
    "Image(url=\"./img/tek_örneklem_t_testi-1.jpg\")"
   ]
  },
  {
   "cell_type": "markdown",
   "metadata": {},
   "source": [
    "Adım 2: Anlamlılık düzeyinin ve tablo değerinin belirlenmesi"
   ]
  },
  {
   "cell_type": "code",
   "execution_count": 5,
   "metadata": {},
   "outputs": [
    {
     "data": {
      "text/html": [
       "<img src=\"./img/tek_örneklem_t_testi-2.jpg\"/>"
      ],
      "text/plain": [
       "<IPython.core.display.Image object>"
      ]
     },
     "execution_count": 5,
     "metadata": {},
     "output_type": "execute_result"
    }
   ],
   "source": [
    "Image(url=\"./img/tek_örneklem_t_testi-2.jpg\")"
   ]
  },
  {
   "cell_type": "markdown",
   "metadata": {},
   "source": [
    "Adım 3: Test istatistiğinin belirlenmesi ve test istatistiğinin hesaplanması."
   ]
  },
  {
   "cell_type": "code",
   "execution_count": 7,
   "metadata": {},
   "outputs": [
    {
     "data": {
      "text/html": [
       "<img src=\"./img/tek_örneklem_t_testi-3.jpg\"/>"
      ],
      "text/plain": [
       "<IPython.core.display.Image object>"
      ]
     },
     "execution_count": 7,
     "metadata": {},
     "output_type": "execute_result"
    }
   ],
   "source": [
    "Image(url=\"./img/tek_örneklem_t_testi-3.jpg\") "
   ]
  },
  {
   "cell_type": "markdown",
   "metadata": {},
   "source": [
    "x: örnek ortalama <br>\n",
    "n: örnek sayısı <br>\n",
    "u: istenen değer <br>\n",
    "q(s): standart sapma"
   ]
  },
  {
   "cell_type": "markdown",
   "metadata": {},
   "source": [
    "Adım 4: ZTablo ve Zhesap karşılaştırılması. Zh > Zt ya da -Zh < -Zt ise H0 red edilir.<br>\n",
    "\n",
    "Burada grafiğe baktığımızda Ztablo değeri -1.96 dan sonrası için red edildiğini görürüz. Zhesabın bulunduğu nokta da -2 ile Ztablo değerinden küçük olduğu için Zhesap değeride red edilir."
   ]
  },
  {
   "cell_type": "code",
   "execution_count": 8,
   "metadata": {},
   "outputs": [
    {
     "data": {
      "text/html": [
       "<img src=\"./img/tek_örneklem_t_testi-4.jpg\"/>"
      ],
      "text/plain": [
       "<IPython.core.display.Image object>"
      ]
     },
     "execution_count": 8,
     "metadata": {},
     "output_type": "execute_result"
    }
   ],
   "source": [
    "Image(url=\"./img/tek_örneklem_t_testi-4.jpg\") "
   ]
  },
  {
   "cell_type": "markdown",
   "metadata": {},
   "source": [
    "**Adım 5: Yorum**<br>\n",
    "4.Adımda geçirilen sürenin 20 saniye olduğunu iddia eden H0 hipotezi reddedilmiştir. Buna göre kullanıcılar istatistiksel olarak yüzde 95 güvenilirlik ile 4.adımda 20 saniyeden farklı zaman geçirmektedir.\n",
    "\n",
    "---"
   ]
  },
  {
   "cell_type": "markdown",
   "metadata": {},
   "source": [
    "**Problem:**<br>\n",
    "Web sitemizde geçirilen ortalama süre gerçekten 170 saniye mi?\n",
    "\n",
    "**Detaylar:**\n",
    "- Yazılımlardan elde edilen web sitesinde geçirilen ortalama süreler var.\n",
    "- Bu veriler incelendiğinde bir yönetici ya da çalışanımız bu değerlerin böyle olmadığında yönelik düşünceler taşıyor ve bu durumu test etmek istiyorlar."
   ]
  },
  {
   "cell_type": "code",
   "execution_count": null,
   "metadata": {},
   "outputs": [],
   "source": []
  }
 ],
 "metadata": {
  "kernelspec": {
   "display_name": "Python 3",
   "language": "python",
   "name": "python3"
  },
  "language_info": {
   "codemirror_mode": {
    "name": "ipython",
    "version": 3
   },
   "file_extension": ".py",
   "mimetype": "text/x-python",
   "name": "python",
   "nbconvert_exporter": "python",
   "pygments_lexer": "ipython3",
   "version": "3.7.4"
  }
 },
 "nbformat": 4,
 "nbformat_minor": 4
}
