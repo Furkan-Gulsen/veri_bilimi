{
 "cells": [
  {
   "cell_type": "markdown",
   "metadata": {},
   "source": [
    "## Olasılığa Giriş Ve Olasılık Dağılımları\n",
    "**Olasılık:** Olayların olabilirliğinin sayısal ifadesidir.\n",
    "\n",
    "**Rassal Değişkenler:** Değerlerini bir deneyin sonuçlarından alan değişkene rassal değişken denir. Örneğin; bir yazı tura oyunu oynuyoruz. Attığımızda tura da gelebilir yazı da. İşte bu şekilde değerlerini bir deneyin sonuçlarından alan değişkene rassal değişkenler denir.\n",
    "\n",
    "**Dağılım:** Olayların sayısal karşılığı.\n",
    "\n",
    "**Olasılık Dağılımı:** Olayların sayısal karşılığının gerçekleşme olasılıklarıyla birlikte sunulması.\n",
    "\n",
    "**Olasılık Fonksiyonu:** Olasılık hesaplamaya yarayan fonksiyon."
   ]
  },
  {
   "cell_type": "markdown",
   "metadata": {},
   "source": [
    "### Kesikli Olasılık Dağılımları\n",
    "- Bernoulli\n",
    "- Binom\n",
    "- Pisson"
   ]
  },
  {
   "cell_type": "markdown",
   "metadata": {},
   "source": [
    "### Sürekli Olasılık Dağılımları\n",
    "- Normal Dağılım\n",
    "- Uniform Dağılım\n",
    "- Üstel Dağılım"
   ]
  }
 ],
 "metadata": {
  "kernelspec": {
   "display_name": "Python 3",
   "language": "python",
   "name": "python3"
  },
  "language_info": {
   "codemirror_mode": {
    "name": "ipython",
    "version": 3
   },
   "file_extension": ".py",
   "mimetype": "text/x-python",
   "name": "python",
   "nbconvert_exporter": "python",
   "pygments_lexer": "ipython3",
   "version": "3.7.4"
  }
 },
 "nbformat": 4,
 "nbformat_minor": 4
}
