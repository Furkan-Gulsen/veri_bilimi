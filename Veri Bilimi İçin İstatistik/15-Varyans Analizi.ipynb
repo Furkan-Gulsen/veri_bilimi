{
 "cells": [
  {
   "cell_type": "markdown",
   "metadata": {},
   "source": [
    "## Varyans Analizi\n",
    "İki ya da daha fazla grup ortalaması arasında istatistiksel olarak anlamlı farklılık olup olmadığı öğrenilmek istenildiğinde kullanılır.\n",
    "\n",
    "---\n",
    "\n",
    "**Problem**<br>\n",
    "Anasayfa'da geçirilen süre artırılmak isteniyor.\n",
    "\n",
    "**Detaylar**\n",
    "- Bir web sitesi için başarı kriterleri: ortalama ziyaret süresi, hemen çıkış oranı vb.\n",
    "- Uzun zaman geçiren kullanıcıların reklamlara daha fazla tıkladığı ve markaya olan bağlılıkarınının artığı biliniyor.\n",
    "- Buna yönelik olarka benzer haberlere farklı resimler ya da farklı formatlarda hazırlanarak oluşturulan test gruplarına gösteriliyor.\n",
    "- A: doğal şekilde, B: yönlendirici, C: ilgi çekici"
   ]
  },
  {
   "cell_type": "code",
   "execution_count": null,
   "metadata": {},
   "outputs": [],
   "source": []
  }
 ],
 "metadata": {
  "kernelspec": {
   "display_name": "Python 3",
   "language": "python",
   "name": "python3"
  },
  "language_info": {
   "codemirror_mode": {
    "name": "ipython",
    "version": 3
   },
   "file_extension": ".py",
   "mimetype": "text/x-python",
   "name": "python",
   "nbconvert_exporter": "python",
   "pygments_lexer": "ipython3",
   "version": "3.7.4"
  }
 },
 "nbformat": 4,
 "nbformat_minor": 4
}
