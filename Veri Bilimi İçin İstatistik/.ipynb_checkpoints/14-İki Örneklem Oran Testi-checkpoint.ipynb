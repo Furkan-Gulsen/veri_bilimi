{
 "cells": [
  {
   "cell_type": "markdown",
   "metadata": {},
   "source": [
    "## İki Örneklem Oran Testi\n",
    "İki oran arasında karşılaştırma yapmak için kullanılır."
   ]
  },
  {
   "cell_type": "markdown",
   "metadata": {},
   "source": [
    "---\n",
    "\n",
    "**Problem:**<br>\n",
    "İki buton arasında hangisinin kullanımının verimli olacağı bulunmak isteniyor.\n",
    "\n",
    "- Yeşil Buton   => 1000 Görüntülenme | 300 Tıklama\n",
    "- Kırmızı Buton => 1100 Görüntülenme | 250 Tıklama"
   ]
  },
  {
   "cell_type": "code",
   "execution_count": 4,
   "metadata": {},
   "outputs": [],
   "source": [
    "from statsmodels.stats.proportion import proportions_ztest\n",
    "import numpy as np\n",
    "\n",
    "basari_sayisi = np.array([300,250])\n",
    "gozlem_sayilari = np.array([1000,1100])"
   ]
  },
  {
   "cell_type": "code",
   "execution_count": 5,
   "metadata": {},
   "outputs": [
    {
     "data": {
      "text/plain": [
       "(3.7857863233209255, 0.0001532232957772221)"
      ]
     },
     "execution_count": 5,
     "metadata": {},
     "output_type": "execute_result"
    }
   ],
   "source": [
    "proportions_ztest(count = basari_sayisi, nobs = gozlem_sayilari)"
   ]
  },
  {
   "cell_type": "markdown",
   "metadata": {},
   "source": [
    "pvalue 0.05'ten küçük olduğu için h0 hipotezi red edilir. <br>\n",
    "**Yorum:** İki buton arasında istatistiksel olarak bir fark yoktur."
   ]
  }
 ],
 "metadata": {
  "kernelspec": {
   "display_name": "Python 3",
   "language": "python",
   "name": "python3"
  },
  "language_info": {
   "codemirror_mode": {
    "name": "ipython",
    "version": 3
   },
   "file_extension": ".py",
   "mimetype": "text/x-python",
   "name": "python",
   "nbconvert_exporter": "python",
   "pygments_lexer": "ipython3",
   "version": "3.7.4"
  }
 },
 "nbformat": 4,
 "nbformat_minor": 4
}
