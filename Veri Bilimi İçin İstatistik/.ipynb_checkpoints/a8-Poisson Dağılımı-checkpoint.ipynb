{
 "cells": [
  {
   "cell_type": "markdown",
   "metadata": {},
   "source": [
    "## Poisson Dağılımı\n",
    "Belirli bir zaman aralığında belirli bir alanda nadiren rastlanan olayların olasıklarını hesaplamak için kullanılır."
   ]
  },
  {
   "cell_type": "markdown",
   "metadata": {},
   "source": [
    "Kullanım Alanları: \n",
    "- 10 bin kelimeden oluşan bir kitapta hatalı kelime sayısı\n",
    "- 5000 öğrencili okulda not girişinde hata yapılması\n",
    "- Bir iş gününde çağrı merkezine gelen taktir sayısı\n",
    "- Kredi kartı işlemlerinde sahtekarlık olması\n",
    "\n",
    "Genel olarak poisson nadir olaylarda kullanılır.\n",
    "\n",
    "**Örnek**\n",
    "Bir üniversitede 5000 not girişinde 5 tane notun yanlış girilmesi olasılığı nedir? <br>\n",
    "Dağılımın Poisson olduğu biliiyor ve Lambda = 0.2"
   ]
  },
  {
   "cell_type": "markdown",
   "metadata": {},
   "source": [
    "f(5;2) = ((0.2^5)*e^(-0.2))/5! = 0.0000021828"
   ]
  },
  {
   "cell_type": "markdown",
   "metadata": {},
   "source": [
    "---"
   ]
  },
  {
   "cell_type": "markdown",
   "metadata": {},
   "source": [
    "## Örnek"
   ]
  },
  {
   "cell_type": "markdown",
   "metadata": {},
   "source": [
    "**Problem:**<br>\n",
    "Hatalı ilan girişi olasılıkları hesaplanmak isteniyor.\n",
    "\n",
    "**Detaylar:**\n",
    "- Bir yıl süresince ölçümler yapılıyor.\n",
    "- Dağılım bilinior. Ve lambda 0.1 (ortalama hata sayısı)\n",
    "- Hiç hata olmaması, 3 hata olması ve 5 hata olması olasılıkarı nedir?"
   ]
  },
  {
   "cell_type": "code",
   "execution_count": 5,
   "metadata": {},
   "outputs": [
    {
     "name": "stdout",
     "output_type": "stream",
     "text": [
      "Hiç hata olmaması:  0.9048374180359595\n",
      "3 hata olmaması:  0.00015080623633932676\n",
      "5 hata olmaması:  7.54031181696634e-08\n"
     ]
    }
   ],
   "source": [
    "from scipy.stats import poisson\n",
    "\n",
    "## mu=lambda\n",
    "lambda_ = 0.1\n",
    "rv = poisson(mu=lambda_)\n",
    "\n",
    "print(\"Hiç hata olmaması: \" , rv.pmf(k=0))\n",
    "print(\"3 hata olmaması: \" , rv.pmf(k=3))\n",
    "print(\"5 hata olmaması: \" , rv.pmf(k=5))"
   ]
  }
 ],
 "metadata": {
  "kernelspec": {
   "display_name": "Python 3",
   "language": "python",
   "name": "python3"
  },
  "language_info": {
   "codemirror_mode": {
    "name": "ipython",
    "version": 3
   },
   "file_extension": ".py",
   "mimetype": "text/x-python",
   "name": "python",
   "nbconvert_exporter": "python",
   "pygments_lexer": "ipython3",
   "version": "3.7.4"
  }
 },
 "nbformat": 4,
 "nbformat_minor": 4
}
