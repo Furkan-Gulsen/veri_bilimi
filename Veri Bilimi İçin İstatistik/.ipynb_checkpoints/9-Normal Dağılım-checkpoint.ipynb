{
 "cells": [
  {
   "cell_type": "markdown",
   "metadata": {},
   "source": [
    "## Normal Dağılım\n",
    "Normal dağıldığı bilinen sürekli ressal değişkenler için olasılık hesaplaması için kullanılır.\n",
    "\n",
    "---\n",
    "\n",
    "**Problem:**<br>\n",
    "Bir yatırım/toplantı öncesinde gelecek ay ile ilgili satışların belirli değerlerde gerçekleşmesi olasılıkları belirlenmek isteniyor.\n",
    "\n",
    "**Detaylar:**\n",
    "- Dağılımın normal olduğu biliniyor.\n",
    "- Aylık ortalama satış sayısı 80K, standart sapması 5K.\n",
    "- 90K'dan fazla satış yapma olasılığı nedir?"
   ]
  },
  {
   "cell_type": "code",
   "execution_count": 2,
   "metadata": {},
   "outputs": [
    {
     "data": {
      "text/plain": [
       "0.02275013194817921"
      ]
     },
     "execution_count": 2,
     "metadata": {},
     "output_type": "execute_result"
    }
   ],
   "source": [
    "from scipy.stats import norm\n",
    "1-norm.cdf(90,80,5)"
   ]
  }
 ],
 "metadata": {
  "kernelspec": {
   "display_name": "Python 3",
   "language": "python",
   "name": "python3"
  },
  "language_info": {
   "codemirror_mode": {
    "name": "ipython",
    "version": 3
   },
   "file_extension": ".py",
   "mimetype": "text/x-python",
   "name": "python",
   "nbconvert_exporter": "python",
   "pygments_lexer": "ipython3",
   "version": "3.7.4"
  }
 },
 "nbformat": 4,
 "nbformat_minor": 4
}
